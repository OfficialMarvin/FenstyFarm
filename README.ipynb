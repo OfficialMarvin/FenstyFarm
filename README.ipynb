{
 "cells": [
  {
   "cell_type": "code",
   "execution_count": null,
   "metadata": {},
   "outputs": [],
   "source": [
    "#Basic Functions of FenstyFarm\n",
    "#1. Scrape Betting sites with odds\n",
    "#2. Match each betting odds with a player's current stats (Pts, Reb, Assists, Hits, TDs, etc)\n",
    "#3. Find the greatest percentage bet/ bets and share them \n",
    "#4. Once established stat wise, create subsription based program to make more money\n",
    "#5. Roll in money like little piggies in the mud\n"
   ]
  }
 ],
 "metadata": {
  "language_info": {
   "name": "python"
  },
  "orig_nbformat": 4
 },
 "nbformat": 4,
 "nbformat_minor": 2
}
